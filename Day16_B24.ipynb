{
 "cells": [
  {
   "cell_type": "code",
   "execution_count": null,
   "metadata": {},
   "outputs": [],
   "source": [
    "Introduction to return values in functions:"
   ]
  },
  {
   "cell_type": "code",
   "execution_count": null,
   "metadata": {},
   "outputs": [],
   "source": []
  },
  {
   "cell_type": "code",
   "execution_count": 1,
   "metadata": {},
   "outputs": [],
   "source": [
    "def get_formatted_name(first_name,last_name):\n",
    "    \"\"\"Return a fullname, neatly formatted\"\"\"\n",
    "    full_name = f\"{first_name} {last_name}\"\n",
    "    return full_name.title()"
   ]
  },
  {
   "cell_type": "code",
   "execution_count": 2,
   "metadata": {},
   "outputs": [
    {
     "name": "stdout",
     "output_type": "stream",
     "text": [
      "Vishal Sharma\n"
     ]
    }
   ],
   "source": [
    "muscian = get_formatted_name('vishal','sharma')\n",
    "\n",
    "print(muscian)"
   ]
  },
  {
   "cell_type": "code",
   "execution_count": null,
   "metadata": {},
   "outputs": [],
   "source": []
  },
  {
   "cell_type": "code",
   "execution_count": null,
   "metadata": {},
   "outputs": [],
   "source": [
    "Returning a dictionary:"
   ]
  },
  {
   "cell_type": "code",
   "execution_count": 3,
   "metadata": {},
   "outputs": [],
   "source": [
    "def build_person (first_name, last_name, location, state):\n",
    "    \"\"\"Return a dict of information about a person\"\"\"\n",
    "    person = {'first':first_name, 'last':last_name, 'loc':location, 'st':state}\n",
    "    return person"
   ]
  },
  {
   "cell_type": "code",
   "execution_count": 4,
   "metadata": {},
   "outputs": [
    {
     "name": "stdout",
     "output_type": "stream",
     "text": [
      "{'first': 'ravi', 'last': 'kumar', 'loc': 'hyderabad', 'st': 'telangana'}\n"
     ]
    }
   ],
   "source": [
    "Artist = build_person('ravi','kumar','hyderabad','telangana')\n",
    "\n",
    "print(Artist)"
   ]
  },
  {
   "cell_type": "code",
   "execution_count": null,
   "metadata": {},
   "outputs": [],
   "source": []
  },
  {
   "cell_type": "code",
   "execution_count": null,
   "metadata": {},
   "outputs": [],
   "source": [
    "Introduction to arbitary arguments: /speculaive"
   ]
  },
  {
   "cell_type": "code",
   "execution_count": null,
   "metadata": {},
   "outputs": [],
   "source": [
    "#scenario:"
   ]
  },
  {
   "cell_type": "code",
   "execution_count": 12,
   "metadata": {},
   "outputs": [],
   "source": [
    "def pizza(*topping):\n",
    "    \"\"\"creating a pizza with topping\"\"\"\n",
    "    print(topping)"
   ]
  },
  {
   "cell_type": "code",
   "execution_count": 7,
   "metadata": {},
   "outputs": [
    {
     "name": "stdout",
     "output_type": "stream",
     "text": [
      "mushroom\n"
     ]
    }
   ],
   "source": [
    "pizza('mushroom')"
   ]
  },
  {
   "cell_type": "code",
   "execution_count": null,
   "metadata": {},
   "outputs": [],
   "source": [
    "def pizza(*topping):\n",
    "    \"\"\"creating a pizza with topping\"\"\"\n",
    "    print(topping)"
   ]
  },
  {
   "cell_type": "code",
   "execution_count": 14,
   "metadata": {},
   "outputs": [
    {
     "name": "stdout",
     "output_type": "stream",
     "text": [
      "('olives', 'babycorn', 'extracheese')\n"
     ]
    }
   ],
   "source": [
    "pizza('olives','babycorn','extracheese')"
   ]
  },
  {
   "cell_type": "code",
   "execution_count": 13,
   "metadata": {},
   "outputs": [
    {
     "name": "stdout",
     "output_type": "stream",
     "text": [
      "('olives', 'babycorn', 'extracheese')\n"
     ]
    }
   ],
   "source": [
    "pizza('olives','babycorn','extracheese')"
   ]
  },
  {
   "cell_type": "code",
   "execution_count": null,
   "metadata": {},
   "outputs": [],
   "source": []
  },
  {
   "cell_type": "code",
   "execution_count": 15,
   "metadata": {},
   "outputs": [
    {
     "name": "stdout",
     "output_type": "stream",
     "text": [
      "('olives', 'onion')\n",
      "('corn', 'tomatoes')\n"
     ]
    }
   ],
   "source": [
    "pizza('olives','onion')\n",
    "pizza('corn','tomatoes')"
   ]
  },
  {
   "cell_type": "code",
   "execution_count": 16,
   "metadata": {},
   "outputs": [
    {
     "name": "stdout",
     "output_type": "stream",
     "text": [
      "('olives', 'onion')\n",
      "('corn', 'tomatoes')\n",
      "('bbqchicken', 'extracheese', 'panbased', 'chilles')\n"
     ]
    }
   ],
   "source": [
    "pizza('olives','onion')\n",
    "pizza('corn','tomatoes')\n",
    "pizza('bbqchicken','extracheese','panbased','chilles')"
   ]
  },
  {
   "cell_type": "code",
   "execution_count": null,
   "metadata": {},
   "outputs": [],
   "source": []
  },
  {
   "cell_type": "code",
   "execution_count": null,
   "metadata": {},
   "outputs": [],
   "source": [
    "integration of for loop with the function."
   ]
  },
  {
   "cell_type": "code",
   "execution_count": 17,
   "metadata": {},
   "outputs": [],
   "source": [
    "def make_pizza(*toppings):\n",
    "    \"\"\"summarise the pizza we are about to make\"\"\"\n",
    "    print(\"\\nmaking the pizza with the below toppings: \")\n",
    "    for topping in toppings:\n",
    "        print(f\"-{topping}\")"
   ]
  },
  {
   "cell_type": "code",
   "execution_count": 18,
   "metadata": {},
   "outputs": [
    {
     "name": "stdout",
     "output_type": "stream",
     "text": [
      "\n",
      "making the pizza with the below toppings: \n",
      "-olives\n",
      "-onion\n",
      "\n",
      "making the pizza with the below toppings: \n",
      "-corn\n",
      "-tomatoes\n",
      "\n",
      "making the pizza with the below toppings: \n",
      "-bbqchicken\n",
      "-extracheese\n",
      "-panbased\n",
      "-chilles\n"
     ]
    }
   ],
   "source": [
    "make_pizza('olives','onion')\n",
    "make_pizza('corn','tomatoes')\n",
    "make_pizza('bbqchicken','extracheese','panbased','chilles')"
   ]
  },
  {
   "cell_type": "code",
   "execution_count": null,
   "metadata": {},
   "outputs": [],
   "source": []
  },
  {
   "cell_type": "code",
   "execution_count": null,
   "metadata": {},
   "outputs": [],
   "source": []
  },
  {
   "cell_type": "code",
   "execution_count": null,
   "metadata": {},
   "outputs": [],
   "source": []
  },
  {
   "cell_type": "code",
   "execution_count": null,
   "metadata": {},
   "outputs": [],
   "source": []
  }
 ],
 "metadata": {
  "kernelspec": {
   "display_name": "Python 3",
   "language": "python",
   "name": "python3"
  },
  "language_info": {
   "codemirror_mode": {
    "name": "ipython",
    "version": 3
   },
   "file_extension": ".py",
   "mimetype": "text/x-python",
   "name": "python",
   "nbconvert_exporter": "python",
   "pygments_lexer": "ipython3",
   "version": "3.7.4"
  }
 },
 "nbformat": 4,
 "nbformat_minor": 2
}

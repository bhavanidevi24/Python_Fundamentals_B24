{
 "cells": [
  {
   "cell_type": "code",
   "execution_count": 1,
   "metadata": {},
   "outputs": [],
   "source": [
    "my_students = ['usha','devi','shanthi','kumar','kiran']"
   ]
  },
  {
   "cell_type": "code",
   "execution_count": 2,
   "metadata": {},
   "outputs": [
    {
     "name": "stdout",
     "output_type": "stream",
     "text": [
      "['usha', 'devi', 'shanthi', 'kumar', 'kiran']\n"
     ]
    }
   ],
   "source": [
    "print(my_students)"
   ]
  },
  {
   "cell_type": "code",
   "execution_count": 3,
   "metadata": {},
   "outputs": [
    {
     "data": {
      "text/plain": [
       "list"
      ]
     },
     "execution_count": 3,
     "metadata": {},
     "output_type": "execute_result"
    }
   ],
   "source": [
    "type(my_students)"
   ]
  },
  {
   "cell_type": "code",
   "execution_count": 5,
   "metadata": {},
   "outputs": [
    {
     "name": "stdout",
     "output_type": "stream",
     "text": [
      "keep up the good work , usha\n"
     ]
    }
   ],
   "source": [
    "print(f\"keep up the good work , {my_students[0]}\")"
   ]
  },
  {
   "cell_type": "code",
   "execution_count": 6,
   "metadata": {},
   "outputs": [
    {
     "name": "stdout",
     "output_type": "stream",
     "text": [
      "keep up the good work , devi\n"
     ]
    }
   ],
   "source": [
    "print(f\"keep up the good work , {my_students[1]}\")"
   ]
  },
  {
   "cell_type": "code",
   "execution_count": 7,
   "metadata": {},
   "outputs": [
    {
     "name": "stdout",
     "output_type": "stream",
     "text": [
      "keep up the good work , shanthi\n"
     ]
    }
   ],
   "source": [
    "print(f\"keep up the good work , {my_students[2]}\")"
   ]
  },
  {
   "cell_type": "code",
   "execution_count": 8,
   "metadata": {},
   "outputs": [
    {
     "name": "stdout",
     "output_type": "stream",
     "text": [
      "keep up the good work,usha\n",
      "keep up the good work,devi\n",
      "keep up the good work,shanthi\n",
      "keep up the good work,kumar\n",
      "keep up the good work,kiran\n"
     ]
    }
   ],
   "source": [
    "for student in my_students:\n",
    "    print(f\"keep up the good work,{student}\")"
   ]
  },
  {
   "cell_type": "code",
   "execution_count": 9,
   "metadata": {},
   "outputs": [
    {
     "name": "stdout",
     "output_type": "stream",
     "text": [
      "keep up the good work, usha\n",
      "keep up the good work, devi\n",
      "keep up the good work, shanthi\n",
      "keep up the good work, kumar\n",
      "keep up the good work, kiran\n"
     ]
    }
   ],
   "source": [
    "for x in my_students:\n",
    "    print(f\"keep up the good work, {x}\")"
   ]
  },
  {
   "cell_type": "code",
   "execution_count": 11,
   "metadata": {},
   "outputs": [
    {
     "name": "stdout",
     "output_type": "stream",
     "text": [
      "usha\n",
      "devi\n",
      "shanthi\n",
      "kumar\n",
      "kiran\n"
     ]
    }
   ],
   "source": [
    "for batman in my_students:\n",
    "    print(batman)"
   ]
  },
  {
   "cell_type": "code",
   "execution_count": 12,
   "metadata": {},
   "outputs": [
    {
     "name": "stdout",
     "output_type": "stream",
     "text": [
      "keep up the good work, usha\n",
      "keep up the good work, devi\n",
      "keep up the good work, shanthi\n",
      "keep up the good work, kumar\n",
      "keep up the good work, kiran\n"
     ]
    }
   ],
   "source": [
    "for batman in my_students:\n",
    "    print(f\"keep up the good work, {batman}\")"
   ]
  },
  {
   "cell_type": "code",
   "execution_count": 13,
   "metadata": {},
   "outputs": [
    {
     "name": "stdout",
     "output_type": "stream",
     "text": [
      "keep up the good work, usha\n",
      "I am looking forward to receive your practise file, usha\n",
      "keep up the good work, devi\n",
      "I am looking forward to receive your practise file, devi\n",
      "keep up the good work, shanthi\n",
      "I am looking forward to receive your practise file, shanthi\n",
      "keep up the good work, kumar\n",
      "I am looking forward to receive your practise file, kumar\n",
      "keep up the good work, kiran\n",
      "I am looking forward to receive your practise file, kiran\n"
     ]
    }
   ],
   "source": [
    "for student in my_students:\n",
    "    print(f\"keep up the good work, {student}\")\n",
    "    print(f\"I am looking forward to receive your practise file, {student}\")"
   ]
  },
  {
   "cell_type": "code",
   "execution_count": 14,
   "metadata": {},
   "outputs": [
    {
     "name": "stdout",
     "output_type": "stream",
     "text": [
      "keep up the good work, usha\n",
      "I am looking forward to receive your practise file, usha.\n",
      "\n",
      "keep up the good work, devi\n",
      "I am looking forward to receive your practise file, devi.\n",
      "\n",
      "keep up the good work, shanthi\n",
      "I am looking forward to receive your practise file, shanthi.\n",
      "\n",
      "keep up the good work, kumar\n",
      "I am looking forward to receive your practise file, kumar.\n",
      "\n",
      "keep up the good work, kiran\n",
      "I am looking forward to receive your practise file, kiran.\n",
      "\n"
     ]
    }
   ],
   "source": [
    "for student in my_students:\n",
    "    print(f\"keep up the good work, {student}\")\n",
    "    print(f\"I am looking forward to receive your practise file, {student}.\\n\")"
   ]
  },
  {
   "cell_type": "code",
   "execution_count": 15,
   "metadata": {},
   "outputs": [
    {
     "name": "stdout",
     "output_type": "stream",
     "text": [
      "keep up the good work, usha\n",
      "I am looking forward to receive your practise file, usha.\n",
      "\n",
      "keep up the good work, devi\n",
      "I am looking forward to receive your practise file, devi.\n",
      "\n",
      "keep up the good work, shanthi\n",
      "I am looking forward to receive your practise file, shanthi.\n",
      "\n",
      "keep up the good work, kumar\n",
      "I am looking forward to receive your practise file, kumar.\n",
      "\n",
      "keep up the good work, kiran\n",
      "I am looking forward to receive your practise file, kiran.\n",
      "\n",
      "Thank you all for showing interest in learning python\n"
     ]
    }
   ],
   "source": [
    "for student in my_students:\n",
    "    print(f\"keep up the good work, {student}\")\n",
    "    print(f\"I am looking forward to receive your practise file, {student}.\\n\")\n",
    "\n",
    "print(\"Thank you all for showing interest in learning python\")    "
   ]
  },
  {
   "cell_type": "code",
   "execution_count": null,
   "metadata": {},
   "outputs": [],
   "source": []
  },
  {
   "cell_type": "code",
   "execution_count": null,
   "metadata": {},
   "outputs": [],
   "source": []
  },
  {
   "cell_type": "code",
   "execution_count": null,
   "metadata": {},
   "outputs": [],
   "source": []
  },
  {
   "cell_type": "code",
   "execution_count": null,
   "metadata": {},
   "outputs": [],
   "source": []
  }
 ],
 "metadata": {
  "kernelspec": {
   "display_name": "Python 3",
   "language": "python",
   "name": "python3"
  },
  "language_info": {
   "codemirror_mode": {
    "name": "ipython",
    "version": 3
   },
   "file_extension": ".py",
   "mimetype": "text/x-python",
   "name": "python",
   "nbconvert_exporter": "python",
   "pygments_lexer": "ipython3",
   "version": "3.7.4"
  }
 },
 "nbformat": 4,
 "nbformat_minor": 2
}
